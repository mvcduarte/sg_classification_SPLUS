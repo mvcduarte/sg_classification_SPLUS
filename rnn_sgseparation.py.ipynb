{
 "cells": [
  {
   "cell_type": "code",
   "execution_count": 5,
   "metadata": {},
   "outputs": [],
   "source": [
    "# -*- coding: utf-8 -*-\n",
    "\"\"\"\n",
    "   This code classifies stars and galaxies in the S-PLUS survey, using the\n",
    "   Recurrent Neural Networks (RNN/LSTM). This algorithm is trained and validated \n",
    "   using S-PLUS observations in combination with overlapped SDSS/S82 classification. \n",
    "\n",
    "                                              mvcduarte - 12/2017\n",
    "\"\"\"\n",
    "\n",
    "from __future__ import division, print_function, absolute_import\n",
    "\n",
    "import numpy as np\n",
    "import tflearn\n",
    "import matplotlib.pyplot as plt\n",
    "import starlight_tools as stl"
   ]
  },
  {
   "cell_type": "markdown",
   "metadata": {},
   "source": [
    "Loading some packages.."
   ]
  },
  {
   "cell_type": "code",
   "execution_count": 6,
   "metadata": {},
   "outputs": [],
   "source": [
    "def load_train_test_validation_samples(infile, mag_min_max, n_bands, n_morph, flag_morph):\n",
    "\n",
    "    \"\"\"\n",
    "      This routine loads the training, test or validation samples\n",
    "      with the option of including or not the morpholofical part. \n",
    "\n",
    "                      mvcduarte - 14/11/2017\n",
    "    \"\"\"\n",
    "\n",
    "    if flag_morph == 1: # morph\n",
    "        columns = [0, 1, 2, 3, 4, 5, 6, 7, 8, 9, 10, 11, 12, 13, 15, 16, 17, 18]\n",
    "        type_variable = [0, 2, 1, 1, 1, 1, 1, 1, 1, 1, 1, 1, 1, 1, 1, 1, 1, 0]\n",
    "    else: # only mags (not columns 15 and 16)\n",
    "        columns = [0, 1, 2, 3, 4, 5, 6, 7, 8, 9, 10, 11, 12, 13, 18]\n",
    "        type_variable = [0, 2, 1, 1, 1, 1, 1, 1, 1, 1, 1, 1, 1, 1, 0]\n",
    "\n",
    "    print(len(columns), len(type_variable))\n",
    "\n",
    "    data = stl.read_ascii_table(infile, '#', columns, type_variable)  \n",
    "    data = np.array(data)\n",
    "\n",
    "    #print mag_min_max\n",
    "\n",
    "    mag_ref = np.array(data[9], dtype = float)\n",
    "    idx_sample = np.where((mag_ref >= mag_min_max[0]) & (mag_ref <= mag_min_max[1]))[0]\n",
    "    ngal = len(mag_ref[idx_sample])\n",
    "    print('ngal=', ngal)\n",
    "\n",
    "    aid_initial = np.array(data[0])[idx_sample]\n",
    "\n",
    "    Y_initial = np.array(data[1], dtype = int)[idx_sample]\n",
    "    if flag_morph == 1:\n",
    "        X_initial = np.zeros(ngal * (n_bands + n_morph)).reshape(ngal, (n_bands + n_morph))\n",
    "        for i in range((n_bands + n_morph)):\n",
    "            X_initial[:, i] = np.array(data[2+i])[idx_sample]\n",
    "    else:\n",
    "        X_initial = np.zeros(ngal * (n_bands)).reshape(ngal, (n_bands))\n",
    "        for i in range((n_bands)):           \n",
    "            X_initial[:, i] = np.array(data[2+i])[idx_sample]\n",
    "\n",
    "    if flag_morph == 1: # morph\n",
    "        field_initial = np.array(data[17], dtype = str)\n",
    "    else:\n",
    "        field_initial = np.array(data[14], dtype = str)\n",
    "\n",
    "    return X_initial, Y_initial, field_initial, aid_initial"
   ]
  },
  {
   "cell_type": "markdown",
   "metadata": {},
   "source": [
    "It loads the training or validation samples (both with the same format) and with the option to include the morphological parameters in the features matrix or not. "
   ]
  },
  {
   "cell_type": "code",
   "execution_count": 7,
   "metadata": {},
   "outputs": [],
   "source": [
    "def slice_matrix_SPLUS_bands(X, Y, idx_bands):\n",
    "\n",
    "    \"\"\"\n",
    "        This routine slices the X and Y arrays in order to select\n",
    "        only objects with a set of measured S-PLUS mags.  \n",
    "\n",
    "                      mvcduarte - 02/12/2017\n",
    "    \"\"\"\n",
    "    #print np.shape(X)\n",
    "    idx_sample = np.zeros(len(X[:, 0]))\n",
    "    for j in range(len(idx_bands)): # each band which should be \"ok\"\n",
    "\n",
    "        # indexing values of the \"idx_bands[j]\" mags which are missed (99.)\n",
    "        idx = np.where(X[:, idx_bands[j]] == 99.)[0]\n",
    "        # Flag them as 1.\n",
    "        idx_sample[idx] = 1. # flag objects with missing band as 1.\n",
    "\n",
    "    # Select objects which are not affected by missing values for this set of bands (idx_bands) \n",
    "    idx_sample = [(idx_sample == 0.)]\n",
    "\n",
    "    # Output them into new arrays\n",
    "    X_out = X[:, idx_bands][idx_sample].copy()\n",
    "    Y_out = Y[idx_sample].copy()\n",
    "\n",
    "    return X_out, Y_out"
   ]
  },
  {
   "cell_type": "markdown",
   "metadata": {},
   "source": [
    "Since the S-PLUS data suffers from missing bands, it is necessary to extract from the initial training or validation sample only objects with the same missing bands. "
   ]
  },
  {
   "cell_type": "code",
   "execution_count": 8,
   "metadata": {},
   "outputs": [],
   "source": [
    "def make_matrix_Y(Y_matrix):\n",
    "    \"\"\"\n",
    "       It makes the label Y matrix in a proper shape to RNN\n",
    "       It returns a 2-element array (eg [0, 1]) that indicate the class.\n",
    "\n",
    "    \"\"\"\n",
    "    Yout = np.zeros(2 * len(Y_matrix)).reshape(len(Y_matrix), 2)\n",
    "    idx_star = np.where(Y_matrix == 6)[0]\n",
    "    idx_galaxy = np.where(Y_matrix == 3)[0]\n",
    "\n",
    "    Yout[idx_star, 0] = 1. \n",
    "    Yout[idx_galaxy, 1] = 1. \n",
    "    \n",
    "    return Yout"
   ]
  },
  {
   "cell_type": "markdown",
   "metadata": {},
   "source": [
    "Put the label matrix in the format for the RNN. Since we have two classes, the label matrix has format (nobj, 2). For each line, the columns correspond to the class. 1st column = 1 -> star, 2nd column = 1 -> galaxy.  "
   ]
  },
  {
   "cell_type": "code",
   "execution_count": 9,
   "metadata": {},
   "outputs": [],
   "source": [
    "def check_performance(Y_predicted, Y_test):\n",
    "    \"\"\"\n",
    "        Calculate the performance of the RNN by checking the \n",
    "        fraction of correct classification.\n",
    "    \"\"\"\n",
    "    n = 0.\n",
    "    for i in range(len(Y_predicted)):\n",
    "        if np.argmin(1. - Y_predicted[i], axis = 0) == np.argmin(1. - Y_test[i], axis = 0):\n",
    "            n += 1.\n",
    "\n",
    "    return n / float(len(Y_predicted))"
   ]
  },
  {
   "cell_type": "markdown",
   "metadata": {},
   "source": [
    "Calculating the performance of the RNN by comparing the the validation (test) input matrix. "
   ]
  },
  {
   "cell_type": "code",
   "execution_count": 10,
   "metadata": {},
   "outputs": [],
   "source": [
    "def main():\n",
    "\n",
    "    # Use morphology?\n",
    "\n",
    "    flag_morph = 1 #(0/1) = (YES/NO)\n",
    "\n",
    "    # TRAINING and TEST samples\n",
    "\n",
    "    str_date = '08012018'\n",
    "    #path_samples = '/home/mvcduarte/Dropbox/TMP/samples_sg_separation/'\n",
    "    path_samples = '/Users/marcusduarte/Dropbox/TMP/samples_sg_separation/'\n",
    "\n",
    "    infile_training = 'match_SPLUS_SDSS_S82_phot.cat_PSF_max2.4.v2_' + str_date + '_training'\n",
    "    infile_test = 'match_SPLUS_SDSS_S82_phot.cat_PSF_max2.4.v2_' + str_date + '_test'\n",
    "\n",
    "    # Number of SPLUS bands\n",
    "\n",
    "    n_bands = 12\n",
    "\n",
    "    # Number of morphological parameters\n",
    "\n",
    "    n_morph = 3\n",
    "\n",
    "    # Magnitude range (r-band)\n",
    "\n",
    "    mag_min_max = [13., 21.]\n",
    "\n",
    "    # Indexing S-PLUS bands\n",
    "\n",
    "    idx_broad_bands = [5, 7, 9, 11] # g r i z\n",
    "    idx_narrow_bands = [0, 1, 2, 3, 4, 6, 8, 10] # uJAVA + narrow bands\n",
    "    if flag_morph == 1:\n",
    "        idx_all_bands = np.arange(15) # 12 SPLUS filters + morph\n",
    "        n_morph = 3\n",
    "    else:\n",
    "        idx_all_bands = np.arange(12) # 12 SPLUS filters\n",
    "        n_morph = 0\n",
    "\n",
    "    # Number of epochs for the RNN\n",
    "\n",
    "    n_epoch = 2 # (>200)\n",
    "\n",
    "    # Loading the TRAINING and VALIDATION samples\n",
    "\n",
    "    X_training_initial, Y_training_initial, field_initial, aid_training_initial = \\\n",
    "    load_train_test_validation_samples(path_samples + infile_training, mag_min_max, n_bands, n_morph, flag_morph)\n",
    "\n",
    "    X_test_initial, Y_test_initial, field_initial, aid_test_initial = \\\n",
    "    load_train_test_validation_samples(path_samples + infile_test, mag_min_max, n_bands, n_morph, flag_morph)\n",
    "\n",
    "    # Slice the INITIAL samples in order to get a subsamples with ALL features measured  \n",
    "\n",
    "    X_training, Y_training = slice_matrix_SPLUS_bands(X_training_initial, Y_training_initial, idx_all_bands)\n",
    "    X_test, Y_test = slice_matrix_SPLUS_bands(X_test_initial, Y_test_initial, idx_all_bands)\n",
    "\n",
    "    # Reshape TRAINING and TEST samples for LSTM\n",
    "\n",
    "    X_training = np.reshape(X_training, [-1, 1, len(idx_all_bands)])\n",
    "    X_test = np.reshape(X_test, [-1, 1, len(idx_all_bands)])\n",
    "\n",
    "    Y_test = make_matrix_Y(Y_test)\n",
    "    Y_training = make_matrix_Y(Y_training)\n",
    "\n",
    "    print(np.shape(X_training), np.shape(X_test))\n",
    "    print(np.shape(Y_training), np.shape(Y_test))\n",
    "\n",
    "    # Mounting the RNN\n",
    "\n",
    "    net = tflearn.input_data(shape=[None, 1, len(idx_all_bands)]) # Define the input format of objects (images 28x28) \n",
    "    net = tflearn.lstm(net, n_units=128, return_seq=True)# 128 is number of ....?? \n",
    "    net = tflearn.lstm(net, n_units=128)\n",
    "    net = tflearn.fully_connected(net, len(Y_test[0,:]), activation='softmax')\n",
    "    net = tflearn.regression(net, optimizer='adam', loss='categorical_crossentropy') # Define a regression\n",
    "    model = tflearn.DNN(net, tensorboard_verbose=2)\n",
    "\n",
    "    # Fitting...\n",
    "\n",
    "    print('Fitting RNN...')\n",
    "    print(np.shape(X_training), np.shape(Y_training))\n",
    "    model.fit(X_training, Y_training, n_epoch = n_epoch, validation_set=0.2, show_metric=True,\n",
    "              snapshot_step=100, run_id='RNN_SG_SEPARATION')\n",
    "\n",
    "    # Save the trained model\n",
    "    model.save('model_sg_separation.tflearn')\n",
    "\n",
    "    # Prediction of the VALIDATION sample\n",
    "\n",
    "    Y_predicted = model.predict(X_test)\n",
    "    \n",
    "    performance = check_performance(Y_predicted, Y_test)\n",
    "\n",
    "    print('Final Performance=', performance)\n",
    "\n",
    "    return"
   ]
  },
  {
   "cell_type": "markdown",
   "metadata": {},
   "source": [
    "The main routine runs the code, defining input data and making the Neural Network in tensorflow. Afterwards, it saves the model and shows the final performance.   "
   ]
  },
  {
   "cell_type": "code",
   "execution_count": 11,
   "metadata": {},
   "outputs": [
    {
     "name": "stdout",
     "output_type": "stream",
     "text": [
      "Training Step: 3075  | total loss: \u001b[1m\u001b[32m0.16362\u001b[0m\u001b[0m | time: 146.179s\n",
      "| Adam | epoch: 002 | loss: 0.16362 - acc: 0.9395 -- iter: 98368/98411\n",
      "Training Step: 3076  | total loss: \u001b[1m\u001b[32m0.15990\u001b[0m\u001b[0m | time: 148.154s\n",
      "| Adam | epoch: 002 | loss: 0.15990 - acc: 0.9409 | val_loss: 0.15042 - val_acc: 0.9474 -- iter: 98411/98411\n",
      "--\n",
      "INFO:tensorflow:/Users/marcusduarte/Dropbox/ML/rnn/model_sg_separation.tflearn is not in all_model_checkpoint_paths. Manually adding it.\n",
      "WARNING:tensorflow:Error encountered when serializing layer_tensor/LSTM.\n",
      "Type is unsupported, or the types of the items don't match field type in CollectionDef.\n",
      "'list' object has no attribute 'name'\n",
      "Final Performance= 0.948297809838\n"
     ]
    }
   ],
   "source": [
    "if __name__ == '__main__':\n",
    "\n",
    "    main()"
   ]
  },
  {
   "cell_type": "code",
   "execution_count": null,
   "metadata": {},
   "outputs": [],
   "source": []
  }
 ],
 "metadata": {
  "kernelspec": {
   "display_name": "Python 2",
   "language": "python",
   "name": "python2"
  },
  "language_info": {
   "codemirror_mode": {
    "name": "ipython",
    "version": 2
   },
   "file_extension": ".py",
   "mimetype": "text/x-python",
   "name": "python",
   "nbconvert_exporter": "python",
   "pygments_lexer": "ipython2",
   "version": "2.7.13"
  }
 },
 "nbformat": 4,
 "nbformat_minor": 2
}
